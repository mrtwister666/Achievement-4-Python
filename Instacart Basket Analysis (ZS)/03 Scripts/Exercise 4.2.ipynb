{
 "cells": [
  {
   "cell_type": "code",
   "execution_count": null,
   "id": "09756b8a",
   "metadata": {},
   "outputs": [],
   "source": [
    "# IMPORTING LIBRARIES"
   ]
  },
  {
   "cell_type": "code",
   "execution_count": 2,
   "id": "ee284beb",
   "metadata": {},
   "outputs": [],
   "source": [
    "# import libraries\n",
    "import pandas as pd\n",
    "import numpy as np\n",
    "import os"
   ]
  },
  {
   "cell_type": "code",
   "execution_count": 19,
   "id": "59d28591",
   "metadata": {},
   "outputs": [
    {
     "data": {
      "text/plain": [
       "1000"
      ]
     },
     "execution_count": 19,
     "metadata": {},
     "output_type": "execute_result"
    }
   ],
   "source": [
    "500+500"
   ]
  },
  {
   "cell_type": "code",
   "execution_count": 20,
   "id": "a95c504a",
   "metadata": {},
   "outputs": [],
   "source": [
    "x=250"
   ]
  },
  {
   "cell_type": "code",
   "execution_count": 21,
   "id": "195300f2",
   "metadata": {},
   "outputs": [
    {
     "data": {
      "text/plain": [
       "1000"
      ]
     },
     "execution_count": 21,
     "metadata": {},
     "output_type": "execute_result"
    }
   ],
   "source": [
    "x*4"
   ]
  },
  {
   "cell_type": "code",
   "execution_count": 22,
   "id": "d09c7a1c",
   "metadata": {},
   "outputs": [],
   "source": [
    "y=4"
   ]
  },
  {
   "cell_type": "code",
   "execution_count": 23,
   "id": "c89ceabb",
   "metadata": {},
   "outputs": [
    {
     "data": {
      "text/plain": [
       "1000"
      ]
     },
     "execution_count": 23,
     "metadata": {},
     "output_type": "execute_result"
    }
   ],
   "source": [
    "x*y"
   ]
  },
  {
   "cell_type": "code",
   "execution_count": 24,
   "id": "c7f7d001",
   "metadata": {},
   "outputs": [],
   "source": [
    "b=3.5"
   ]
  },
  {
   "cell_type": "code",
   "execution_count": 25,
   "id": "363ae1d4",
   "metadata": {},
   "outputs": [],
   "source": [
    "c=1.037"
   ]
  },
  {
   "cell_type": "code",
   "execution_count": 26,
   "id": "ee32c86b",
   "metadata": {},
   "outputs": [
    {
     "data": {
      "text/plain": [
       "3.3751205400192865"
      ]
     },
     "execution_count": 26,
     "metadata": {},
     "output_type": "execute_result"
    }
   ],
   "source": [
    "b/c"
   ]
  },
  {
   "cell_type": "code",
   "execution_count": 31,
   "id": "a4a8b147",
   "metadata": {},
   "outputs": [],
   "source": [
    "d='gr'"
   ]
  },
  {
   "cell_type": "code",
   "execution_count": 32,
   "id": "d528370b",
   "metadata": {},
   "outputs": [],
   "source": [
    "e='eat'"
   ]
  },
  {
   "cell_type": "code",
   "execution_count": 33,
   "id": "7c2c8899",
   "metadata": {},
   "outputs": [
    {
     "data": {
      "text/plain": [
       "'great'"
      ]
     },
     "execution_count": 33,
     "metadata": {},
     "output_type": "execute_result"
    }
   ],
   "source": [
    "d+e"
   ]
  },
  {
   "cell_type": "code",
   "execution_count": 34,
   "id": "5b997867",
   "metadata": {},
   "outputs": [
    {
     "data": {
      "text/plain": [
       "'grgrgrgrgrgrgrgrgrgrgrgrgrgrgrgrgrgrgrgrgrgrgrgrgrgrgrgrgrgrgrgrgrgrgrgrgrgrgrgrgrgrgrgrgrgrgrgrgrgrgrgrgrgrgrgrgrgrgrgrgrgrgrgrgrgrgrgrgrgrgrgrgrgrgrgrgrgrgrgrgrgrgrgrgrgrgrgrgrgrgrgrgrgrgrgrgrgrgrgr'"
      ]
     },
     "execution_count": 34,
     "metadata": {},
     "output_type": "execute_result"
    }
   ],
   "source": [
    "d*100"
   ]
  },
  {
   "cell_type": "code",
   "execution_count": null,
   "id": "b5792b30",
   "metadata": {},
   "outputs": [],
   "source": []
  }
 ],
 "metadata": {
  "kernelspec": {
   "display_name": "Python 3 (ipykernel)",
   "language": "python",
   "name": "python3"
  },
  "language_info": {
   "codemirror_mode": {
    "name": "ipython",
    "version": 3
   },
   "file_extension": ".py",
   "mimetype": "text/x-python",
   "name": "python",
   "nbconvert_exporter": "python",
   "pygments_lexer": "ipython3",
   "version": "3.10.9"
  }
 },
 "nbformat": 4,
 "nbformat_minor": 5
}
